{
 "cells": [
  {
   "cell_type": "markdown",
   "id": "d5b3742d-301e-4db2-a8b5-8526c077ee04",
   "metadata": {},
   "source": [
    "https://beautiful-soup-4.readthedocs.io/en/latest/#"
   ]
  },
  {
   "cell_type": "code",
   "execution_count": 2,
   "id": "0aacff83-71ef-48b9-ab51-4598897e103c",
   "metadata": {},
   "outputs": [
    {
     "name": "stdout",
     "output_type": "stream",
     "text": [
      "Requirement already satisfied: beautifulsoup4 in c:\\users\\cse\\anaconda3\\lib\\site-packages (4.12.2)\n",
      "Requirement already satisfied: soupsieve>1.2 in c:\\users\\cse\\anaconda3\\lib\\site-packages (from beautifulsoup4) (2.5)\n",
      "Note: you may need to restart the kernel to use updated packages.\n"
     ]
    }
   ],
   "source": [
    "pip install beautifulsoup4"
   ]
  },
  {
   "cell_type": "code",
   "execution_count": 1,
   "id": "afd1ea27-9ee4-4bc8-90aa-a2b31e902f15",
   "metadata": {},
   "outputs": [],
   "source": [
    "from bs4 import BeautifulSoup\n",
    "import requests"
   ]
  },
  {
   "cell_type": "code",
   "execution_count": 2,
   "id": "45114394-8226-4199-9a23-f2eccef203ba",
   "metadata": {},
   "outputs": [],
   "source": [
    "URL = \"https://www.financialexpress.com/market/\"\n",
    "\n",
    "#ERROR: You don't have permission to access \"http://www.financialexpress.com/market/\" on this server.\n",
    "header = {\n",
    "    'User-Agent': 'Mozilla/5.0 (Macintosh; Intel Mac OS X 10_10_1) AppleWebKit/537.36 (KHTML, like Gecko) Chrome/39.0.2171.95 Safari/537.36',\n",
    "}"
   ]
  },
  {
   "cell_type": "code",
   "execution_count": null,
   "id": "32ca32fb-0268-4d06-a2de-a18b13055cc6",
   "metadata": {
    "scrolled": true
   },
   "outputs": [],
   "source": [
    "# print(soup.prettify())"
   ]
  },
  {
   "cell_type": "code",
   "execution_count": 53,
   "id": "da90ce3b-cb81-43bd-94d6-925e976ce027",
   "metadata": {},
   "outputs": [],
   "source": [
    "headlines = []\n",
    "headlines_links = []\n",
    "def download_page(URL):\n",
    "    global page, soup\n",
    "    page = requests.get(URL, headers=header)\n",
    "    soup = BeautifulSoup(page.content, 'html.parser')\n",
    "\n",
    "def fetch_text_and_href():\n",
    "    global soup,headlines,headlines_links\n",
    "    h2_tags = soup.find_all('h2', class_=\"entry-title\")\n",
    "    # print(len(h2_tags))\n",
    "\n",
    "    # Iterate over each <h2> tag\n",
    "    \n",
    "    for h2_tag in h2_tags:\n",
    "        # Find all <a> tags inside the current <h2> tag\n",
    "        a_tags = h2_tag.find_all('a')\n",
    "        # Iterate over each <a> tag\n",
    "        for a_tag in a_tags:\n",
    "            # Extract and print the href attribute of each <a> tag\n",
    "            href = a_tag.get('href')\n",
    "            # print(\"Text:\", a_tag.text.strip())\n",
    "            headlines.append(a_tag.text.strip())\n",
    "            # print(\"Href:\", href)\n",
    "            headlines_links.append(href.strip())"
   ]
  },
  {
   "cell_type": "code",
   "execution_count": 54,
   "id": "9bc2d348-bd0e-4af5-947e-301e8d53c6c3",
   "metadata": {},
   "outputs": [],
   "source": [
    "download_page(URL)\n",
    "fetch_text_and_href()\n",
    "for i in range(2,100):\n",
    "    URL = \"https://www.financialexpress.com/market/page/{pageno}/\".format(pageno=i)\n",
    "    download_page(URL)\n",
    "    fetch_text_and_href()"
   ]
  },
  {
   "cell_type": "code",
   "execution_count": 57,
   "id": "cfdf80dc-7e57-4b8d-bdd6-7055648aa5f6",
   "metadata": {},
   "outputs": [
    {
     "name": "stdout",
     "output_type": "stream",
     "text": [
      "101\n",
      "102\n",
      "103\n",
      "104\n",
      "105\n",
      "106\n",
      "107\n",
      "108\n",
      "109\n",
      "110\n",
      "111\n",
      "112\n",
      "113\n",
      "114\n",
      "115\n",
      "116\n",
      "117\n",
      "118\n",
      "119\n",
      "120\n",
      "121\n",
      "122\n",
      "123\n",
      "124\n",
      "125\n",
      "126\n",
      "127\n",
      "128\n",
      "129\n",
      "130\n",
      "131\n",
      "132\n",
      "133\n",
      "134\n",
      "135\n",
      "136\n",
      "137\n",
      "138\n",
      "139\n",
      "140\n",
      "141\n",
      "142\n",
      "143\n",
      "144\n",
      "145\n",
      "146\n",
      "147\n",
      "148\n",
      "149\n",
      "150\n",
      "151\n",
      "152\n",
      "153\n",
      "154\n",
      "155\n",
      "156\n",
      "157\n",
      "158\n",
      "159\n",
      "160\n",
      "161\n",
      "162\n",
      "163\n",
      "164\n",
      "165\n",
      "166\n",
      "167\n",
      "168\n",
      "169\n",
      "170\n",
      "171\n",
      "172\n",
      "173\n",
      "174\n",
      "175\n",
      "176\n",
      "177\n",
      "178\n",
      "179\n",
      "180\n",
      "181\n",
      "182\n",
      "183\n",
      "184\n",
      "185\n",
      "186\n",
      "187\n",
      "188\n",
      "189\n",
      "190\n",
      "191\n",
      "192\n",
      "193\n",
      "194\n",
      "195\n",
      "196\n",
      "197\n",
      "198\n",
      "199\n",
      "200\n",
      "201\n",
      "202\n",
      "203\n",
      "204\n",
      "205\n",
      "206\n",
      "207\n",
      "208\n",
      "209\n",
      "210\n",
      "211\n",
      "212\n",
      "213\n",
      "214\n",
      "215\n",
      "216\n",
      "217\n",
      "218\n",
      "219\n",
      "220\n",
      "221\n",
      "222\n",
      "223\n",
      "224\n",
      "225\n",
      "226\n",
      "227\n",
      "228\n",
      "229\n",
      "230\n",
      "231\n",
      "232\n",
      "233\n",
      "234\n",
      "235\n",
      "236\n",
      "237\n",
      "238\n",
      "239\n",
      "240\n",
      "241\n",
      "242\n",
      "243\n",
      "244\n",
      "245\n",
      "246\n",
      "247\n",
      "248\n",
      "249\n",
      "250\n",
      "251\n",
      "252\n",
      "253\n",
      "254\n",
      "255\n",
      "256\n",
      "257\n",
      "258\n",
      "259\n",
      "260\n",
      "261\n",
      "262\n",
      "263\n",
      "264\n",
      "265\n",
      "266\n",
      "267\n",
      "268\n",
      "269\n",
      "270\n",
      "271\n",
      "272\n",
      "273\n",
      "274\n",
      "275\n",
      "276\n",
      "277\n",
      "278\n",
      "279\n",
      "280\n",
      "281\n",
      "282\n",
      "283\n",
      "284\n",
      "285\n",
      "286\n",
      "287\n",
      "288\n",
      "289\n",
      "290\n",
      "291\n",
      "292\n",
      "293\n",
      "294\n",
      "295\n",
      "296\n",
      "297\n",
      "298\n",
      "299\n",
      "300\n",
      "301\n",
      "302\n",
      "303\n",
      "304\n",
      "305\n",
      "306\n",
      "307\n",
      "308\n",
      "309\n",
      "310\n",
      "311\n",
      "312\n",
      "313\n",
      "314\n",
      "315\n",
      "316\n",
      "317\n",
      "318\n",
      "319\n",
      "320\n",
      "321\n",
      "322\n",
      "323\n",
      "324\n",
      "325\n",
      "326\n",
      "327\n",
      "328\n",
      "329\n",
      "330\n",
      "331\n",
      "332\n",
      "333\n",
      "334\n",
      "335\n",
      "336\n",
      "337\n",
      "338\n",
      "339\n",
      "340\n",
      "341\n",
      "342\n",
      "343\n",
      "344\n",
      "345\n",
      "346\n",
      "347\n",
      "348\n",
      "349\n",
      "350\n",
      "351\n",
      "352\n",
      "353\n",
      "354\n",
      "355\n",
      "356\n",
      "357\n",
      "358\n",
      "359\n",
      "360\n",
      "361\n",
      "362\n",
      "363\n",
      "364\n",
      "365\n",
      "366\n",
      "367\n",
      "368\n",
      "369\n",
      "370\n",
      "371\n",
      "372\n",
      "373\n",
      "374\n",
      "375\n",
      "376\n",
      "377\n",
      "378\n",
      "379\n",
      "380\n",
      "381\n",
      "382\n",
      "383\n",
      "384\n",
      "385\n",
      "386\n",
      "387\n",
      "388\n",
      "389\n",
      "390\n",
      "391\n",
      "392\n",
      "393\n",
      "394\n",
      "395\n",
      "396\n",
      "397\n",
      "398\n",
      "399\n",
      "400\n",
      "401\n",
      "402\n",
      "403\n",
      "404\n",
      "405\n",
      "406\n",
      "407\n",
      "408\n",
      "409\n",
      "410\n",
      "411\n",
      "412\n",
      "413\n",
      "414\n",
      "415\n",
      "416\n",
      "417\n",
      "418\n",
      "419\n",
      "420\n",
      "421\n",
      "422\n",
      "423\n",
      "424\n",
      "425\n",
      "426\n",
      "427\n",
      "428\n",
      "429\n",
      "430\n",
      "431\n",
      "432\n",
      "433\n",
      "434\n",
      "435\n",
      "436\n",
      "437\n",
      "438\n",
      "439\n",
      "440\n",
      "441\n",
      "442\n",
      "443\n",
      "444\n",
      "445\n",
      "446\n",
      "447\n",
      "448\n",
      "449\n",
      "450\n",
      "451\n",
      "452\n",
      "453\n",
      "454\n",
      "455\n",
      "456\n",
      "457\n",
      "458\n",
      "459\n",
      "460\n",
      "461\n",
      "462\n",
      "463\n",
      "464\n",
      "465\n",
      "466\n",
      "467\n",
      "468\n",
      "469\n",
      "470\n",
      "471\n",
      "472\n",
      "473\n",
      "474\n",
      "475\n",
      "476\n",
      "477\n",
      "478\n",
      "479\n",
      "480\n",
      "481\n",
      "482\n",
      "483\n",
      "484\n",
      "485\n",
      "486\n",
      "487\n",
      "488\n",
      "489\n",
      "490\n",
      "491\n",
      "492\n",
      "493\n",
      "494\n",
      "495\n",
      "496\n",
      "497\n",
      "498\n",
      "499\n"
     ]
    }
   ],
   "source": [
    "for i in range(101,500):\n",
    "    URL = \"https://www.financialexpress.com/market/page/{pageno}/\".format(pageno=i)\n",
    "    download_page(URL)\n",
    "    fetch_text_and_href()\n",
    "    print(i)"
   ]
  },
  {
   "cell_type": "code",
   "execution_count": 109,
   "id": "b86fd72f-cb1e-4ffe-ae9c-ebf582ad154c",
   "metadata": {},
   "outputs": [
    {
     "data": {
      "text/plain": [
       "'https://www.financialexpress.com/market/tech-companies-gear-up-to-kick-start-earnings-a-look-at-how-it-stocks-performed-in-q4nbsp-3454823/'"
      ]
     },
     "execution_count": 109,
     "metadata": {},
     "output_type": "execute_result"
    }
   ],
   "source": [
    "# len(headlines_links)\n",
    "headlines_links[0]"
   ]
  },
  {
   "cell_type": "code",
   "execution_count": null,
   "id": "79f28bf3-366a-403f-bb57-3b54cfaf12f2",
   "metadata": {},
   "outputs": [],
   "source": []
  },
  {
   "cell_type": "code",
   "execution_count": 3,
   "id": "10415e1d",
   "metadata": {},
   "outputs": [
    {
     "name": "stdout",
     "output_type": "stream",
     "text": [
      "   Unnamed: 0                                          Headlines  \\\n",
      "0           0  Tech companies gear up to kick-start earnings-...   \n",
      "1           1  Nifty momentum to continue in short-term says ...   \n",
      "\n",
      "                                                link  \n",
      "0  https://www.financialexpress.com/market/tech-c...  \n",
      "1  https://www.financialexpress.com/market/cafein...  \n"
     ]
    }
   ],
   "source": [
    "import pandas as pd\n",
    "\n",
    "# Read CSV file into DataFrame\n",
    "df = pd.read_csv('headlines.csv')\n",
    "\n",
    "# Display the DataFrame\n",
    "print(df.head(2))\n",
    "headlines_links = df['link']"
   ]
  },
  {
   "cell_type": "code",
   "execution_count": 20,
   "id": "ce4b629a",
   "metadata": {},
   "outputs": [
    {
     "data": {
      "text/plain": [
       "10957"
      ]
     },
     "execution_count": 20,
     "metadata": {},
     "output_type": "execute_result"
    }
   ],
   "source": [
    "len(headlines_links)"
   ]
  },
  {
   "cell_type": "code",
   "execution_count": 6,
   "id": "3ad4677d",
   "metadata": {},
   "outputs": [
    {
     "data": {
      "text/html": [
       "<div>\n",
       "<style scoped>\n",
       "    .dataframe tbody tr th:only-of-type {\n",
       "        vertical-align: middle;\n",
       "    }\n",
       "\n",
       "    .dataframe tbody tr th {\n",
       "        vertical-align: top;\n",
       "    }\n",
       "\n",
       "    .dataframe thead th {\n",
       "        text-align: right;\n",
       "    }\n",
       "</style>\n",
       "<table border=\"1\" class=\"dataframe\">\n",
       "  <thead>\n",
       "    <tr style=\"text-align: right;\">\n",
       "      <th></th>\n",
       "      <th>Unnamed: 0</th>\n",
       "      <th>Description</th>\n",
       "    </tr>\n",
       "  </thead>\n",
       "  <tbody>\n",
       "    <tr>\n",
       "      <th>0</th>\n",
       "      <td>0</td>\n",
       "      <td>InformationTechnology companies are all set to...</td>\n",
       "    </tr>\n",
       "    <tr>\n",
       "      <th>1</th>\n",
       "      <td>1</td>\n",
       "      <td>Nifty remains in a short term uptrend and has ...</td>\n",
       "    </tr>\n",
       "  </tbody>\n",
       "</table>\n",
       "</div>"
      ],
      "text/plain": [
       "   Unnamed: 0                                        Description\n",
       "0           0  InformationTechnology companies are all set to...\n",
       "1           1  Nifty remains in a short term uptrend and has ..."
      ]
     },
     "execution_count": 6,
     "metadata": {},
     "output_type": "execute_result"
    }
   ],
   "source": [
    "df_output = pd.read_csv('output.csv')\n",
    "df_output.head(2)"
   ]
  },
  {
   "cell_type": "code",
   "execution_count": 18,
   "id": "d71765a2",
   "metadata": {},
   "outputs": [
    {
     "data": {
      "text/plain": [
       "2000"
      ]
     },
     "execution_count": 18,
     "metadata": {},
     "output_type": "execute_result"
    }
   ],
   "source": [
    "len(concatenated_df)"
   ]
  },
  {
   "cell_type": "code",
   "execution_count": 17,
   "id": "de6099d9",
   "metadata": {},
   "outputs": [],
   "source": [
    "concatenated_df = pd.concat([df_output, df_new], ignore_index=True)"
   ]
  },
  {
   "cell_type": "code",
   "execution_count": 19,
   "id": "1d1ffbf3",
   "metadata": {},
   "outputs": [],
   "source": [
    "concatenated_df.to_csv(\"output_2.csv\", index=True)"
   ]
  },
  {
   "cell_type": "code",
   "execution_count": 13,
   "id": "362ef6bb",
   "metadata": {},
   "outputs": [],
   "source": [
    "df_output.drop(columns=['Unnamed: 0'], inplace=True)"
   ]
  },
  {
   "cell_type": "code",
   "execution_count": 14,
   "id": "6bc680d3",
   "metadata": {},
   "outputs": [],
   "source": [
    "# Create a dictionary with column names as keys and lists as values\n",
    "data = {'Description': text_news}\n",
    "\n",
    "# Convert the dictionary to a DataFrame\n",
    "df_new = pd.DataFrame(data)"
   ]
  },
  {
   "cell_type": "code",
   "execution_count": 16,
   "id": "7a9644a6",
   "metadata": {},
   "outputs": [
    {
     "data": {
      "text/plain": [
       "1000"
      ]
     },
     "execution_count": 16,
     "metadata": {},
     "output_type": "execute_result"
    }
   ],
   "source": [
    "len(df_new)"
   ]
  },
  {
   "cell_type": "code",
   "execution_count": 44,
   "id": "48547f85",
   "metadata": {},
   "outputs": [
    {
     "name": "stdout",
     "output_type": "stream",
     "text": [
      "10769\n"
     ]
    }
   ],
   "source": [
    "print(10633+136)"
   ]
  },
  {
   "cell_type": "code",
   "execution_count": 59,
   "id": "1d765798-c328-40d2-bf34-4d83b98c27d1",
   "metadata": {},
   "outputs": [
    {
     "name": "stdout",
     "output_type": "stream",
     "text": [
      "0\n",
      "1\n",
      "2\n"
     ]
    }
   ],
   "source": [
    "#4855\n",
    "#7250\n",
    "#7713\n",
    "#10632\n",
    "#missing 7714 to 10631\n",
    "text_news = []\n",
    "for index,link in enumerate(headlines_links[7248:7249]):\n",
    "    # download_page(link)\n",
    "    page = requests.get(link, headers=header)\n",
    "    soup = BeautifulSoup(page.content, 'html.parser')\n",
    "    full_text = \"\"\n",
    "    parent_div = soup.find('div', id='pcl-full-content')  # Replace 'parent-class' with the actual class name of the parent <div>\n",
    "    # print(parent_div)\n",
    "    # Find all child <p> tags of the parent <div>\n",
    "    child_p_tags = parent_div.find_all('p')\n",
    "    \n",
    "    # Extract and print the text content of each <p> tag\n",
    "#     for p_tag in child_p_tags:\n",
    "#         #print(p_tag.text.strip())\n",
    "#         full_text += p_tag.text.strip()\n",
    "    full_text = ' '.join([p_tag.text.strip() for p_tag in child_p_tags])\n",
    "    text_news.append(full_text)\n",
    "    print(index)"
   ]
  },
  {
   "cell_type": "code",
   "execution_count": 30,
   "id": "f08660ee",
   "metadata": {},
   "outputs": [
    {
     "data": {
      "text/plain": [
       "10957"
      ]
     },
     "execution_count": 30,
     "metadata": {},
     "output_type": "execute_result"
    }
   ],
   "source": [
    "len(headlines_links)"
   ]
  },
  {
   "cell_type": "code",
   "execution_count": 22,
   "id": "8550d3a2-6a84-4ee2-bfe7-2b82a70c5a37",
   "metadata": {},
   "outputs": [
    {
     "data": {
      "text/plain": [
       "2855"
      ]
     },
     "execution_count": 22,
     "metadata": {},
     "output_type": "execute_result"
    }
   ],
   "source": [
    "len(text_news)"
   ]
  },
  {
   "cell_type": "code",
   "execution_count": 138,
   "id": "cfad2dcd-49a8-4b6a-a1a6-cc2268eeb117",
   "metadata": {},
   "outputs": [
    {
     "name": "stdout",
     "output_type": "stream",
     "text": [
      "                                               Headlines  \\\n",
      "0      Tech companies gear up to kick-start earnings-...   \n",
      "1      Nifty momentum to continue in short-term says ...   \n",
      "2      Bharti Hexacom sees bumper listing at 32% prem...   \n",
      "3      Big Fundraising- Vodafone Idea FPO worth Rs 18...   \n",
      "4      Stock Market LIVE: Sensex, Nifty at day’s low!...   \n",
      "...                                                  ...   \n",
      "10952  Petrol, Diesel Price Today, 5 September 2022: ...   \n",
      "10953  Nifty may head to 18300 this month, support at...   \n",
      "10954  Nifty to see buying above 17800, use Iron Butt...   \n",
      "10955  Tamilnad Mercantile Bank Rs 860-crore IPO open...   \n",
      "10956  Nifty would resume upmove only above 17700, tr...   \n",
      "\n",
      "                                                    link  \n",
      "0      https://www.financialexpress.com/market/tech-c...  \n",
      "1      https://www.financialexpress.com/market/cafein...  \n",
      "2      https://www.financialexpress.com/market/bharti...  \n",
      "3      https://www.financialexpress.com/market/big-fu...  \n",
      "4      https://www.financialexpress.com/market/share-...  \n",
      "...                                                  ...  \n",
      "10952  https://www.financialexpress.com/market/commod...  \n",
      "10953  https://www.financialexpress.com/market/cafein...  \n",
      "10954  https://www.financialexpress.com/market/cafein...  \n",
      "10955  https://www.financialexpress.com/market/ipo-ne...  \n",
      "10956  https://www.financialexpress.com/market/cafein...  \n",
      "\n",
      "[10957 rows x 2 columns]\n"
     ]
    }
   ],
   "source": [
    "import pandas as pd\n",
    "\n",
    "# Sample lists\n",
    "\n",
    "\n",
    "# Create a dictionary with column names as keys and lists as values\n",
    "data = {'Headlines': headlines,'link': headlines_links}\n",
    "\n",
    "# Convert the dictionary to a DataFrame\n",
    "df = pd.DataFrame(data)\n",
    "\n",
    "# Print the DataFrame\n",
    "print(df)"
   ]
  },
  {
   "cell_type": "code",
   "execution_count": 141,
   "id": "fa42709b-1852-4054-b7f2-6986ad23bb5a",
   "metadata": {},
   "outputs": [],
   "source": [
    "import pandas as pd\n",
    "\n",
    "\n",
    "# Convert DataFrame to CSV file\n",
    "df.to_csv('headlines.csv', index=True)"
   ]
  },
  {
   "cell_type": "code",
   "execution_count": 55,
   "id": "297e96c0-d957-414c-b4a5-66265acbcafa",
   "metadata": {},
   "outputs": [],
   "source": [
    "\n",
    "\n",
    "import pandas as pd\n",
    "\n",
    "# Sample lists\n",
    "\n",
    "\n",
    "# Create a dictionary with column names as keys and lists as values\n",
    "data = { 'Description': text_news}\n",
    "\n",
    "# Convert the dictionary to a DataFrame\n",
    "df_desc = pd.DataFrame(data)\n",
    "\n",
    "# Print the DataFrame\n",
    "# print(df_desc)"
   ]
  },
  {
   "cell_type": "code",
   "execution_count": 56,
   "id": "2ac84704-e3c3-4c98-9b43-24e21e58cff6",
   "metadata": {},
   "outputs": [],
   "source": [
    "import pandas as pd\n",
    "\n",
    "\n",
    "# Convert DataFrame to CSV file\n",
    "df_desc.to_csv('output_10631.csv', index=True)"
   ]
  },
  {
   "cell_type": "code",
   "execution_count": 122,
   "id": "bcc86be2-aa6d-41f4-bb15-a94d4b013a08",
   "metadata": {},
   "outputs": [
    {
     "ename": "ModuleNotFoundError",
     "evalue": "No module named 'Utils'",
     "output_type": "error",
     "traceback": [
      "\u001b[1;31m---------------------------------------------------------------------------\u001b[0m",
      "\u001b[1;31mModuleNotFoundError\u001b[0m                       Traceback (most recent call last)",
      "Cell \u001b[1;32mIn[122], line 3\u001b[0m\n\u001b[0;32m      1\u001b[0m \u001b[38;5;28;01mimport\u001b[39;00m \u001b[38;5;21;01mpanel\u001b[39;00m \u001b[38;5;28;01mas\u001b[39;00m \u001b[38;5;21;01mpn\u001b[39;00m\n\u001b[0;32m      2\u001b[0m \u001b[38;5;66;03m#import param\u001b[39;00m\n\u001b[1;32m----> 3\u001b[0m \u001b[38;5;28;01mfrom\u001b[39;00m \u001b[38;5;21;01mUtils\u001b[39;00m \u001b[38;5;28;01mimport\u001b[39;00m upld_file\n\u001b[0;32m      4\u001b[0m pn\u001b[38;5;241m.\u001b[39mextension()\n",
      "\u001b[1;31mModuleNotFoundError\u001b[0m: No module named 'Utils'"
     ]
    }
   ],
   "source": [
    "import panel as pn\n",
    "#import param\n",
    "from Utils import upld_file\n",
    "pn.extension()"
   ]
  },
  {
   "cell_type": "code",
   "execution_count": null,
   "id": "c4517c99-3be1-41e0-a375-a56ea1a353a0",
   "metadata": {},
   "outputs": [],
   "source": [
    "upld_widget = upld_file()\n",
    "pn.Row(upld_widget.widget_file_upload)"
   ]
  },
  {
   "cell_type": "code",
   "execution_count": 121,
   "id": "2e9ba0b7-374e-4be1-a975-ccab0254c255",
   "metadata": {},
   "outputs": [
    {
     "name": "stdout",
     "output_type": "stream",
     "text": [
      "Requirement already satisfied: Utils in c:\\users\\cse\\anaconda3\\lib\\site-packages (1.0.2)\n"
     ]
    }
   ],
   "source": [
    "!pip install Utils"
   ]
  },
  {
   "cell_type": "code",
   "execution_count": 130,
   "id": "c15c75a3-ad78-43f9-9fd1-07d932500f97",
   "metadata": {},
   "outputs": [
    {
     "data": {
      "text/plain": [
       "'Wall Street followed world shares higher on Wednesday and the benchmark U.S. Treasury yield dipped to a one month low after Federal Reserve Chair Jerome Powell provided assurances that while inflation is not quite tamed rate cuts can be expected this year.All three major U.S. stock indexes gained out of the gate in a rebound from Tuesday’s steep sell-off. The tech-heavy Nasdaq was enjoying the most robust gain.U.S. Federal Reserve Chair Jerome Powell said before the House of Representatives Financial Services Committee that “if the economy evolves broadly as expected,” the central bank can be expected to cut its policy rate this year, but added that continued progress against inflation “was not assured.”Powell is set to wrap up his two-day testimony when he appears before the Senate Banking Committee on Thursday.“The chairman has been consistent at least in some of the last couple meetings and the fact that Powell has reiterated that they will cut rates later this year,” said Chris Zaccarelli, chief investment officer.“The markets went from expecting a lot of rate cuts to just starting to worry about whether or not the Fed was going to cut at all this year, and the fact that they were saying that they still want to cut I think, on balance, is good news for markets,” Zaccarelli added.Labor market data released ahead of Friday’s February employment report showed job openings dipped in the first weeks of 2024 and private employers added fewer than expected workers to their payrolls in February.A softening U.S. labor market has been identified by Powell as a precondition for bringing inflation down to the Fed’s 2% annual target.The Dow Jones Industrial Average rose 179.83 points, or 0.47%, to 38,765.02, the S&P 500 gained 25.27 points, or 0.50%, to 5,103.92 and the Nasdaq Composite added 68.42 points, or 0.43%, to 16,008.00.European shares, modestly higher before Powell’s prepared opening remarks were released, extended their gains on assurances that central bank policy easing remains on the table this year.The pan-European STOXX 600 index rose 0.41% and MSCI’s gauge of stocks across the globe gained 0.58%.Emerging market stocks rose 0.72%. MSCI’s broadest index of Asia-Pacific shares outside Japan closed 0.77% higher, while Japan’s Nikkei lost 0.02%.Bitcoin, which touched and then backed away from an all-time high on Tuesday, resumed its climb.The cryptocurrency was last up 4.5% at $66,160.The dollar softened against a basket of world currencies.The dollar index fell 0.29%, with the euro up 0.31% to $1.0889.The Japanese yen strengthened 0.50% versus the greenback at 149.31 per dollar, while Sterling was last trading at $1.2725, up 0.17% on the day.Treasury yields touched session lows after Powell warned that the battle against inflation continues, but he expects to reduce the key Fed funds target rate this year.Benchmark 10-year notes last rose 10/32 in price to yield 4.0981%, from 4.137% late on Tuesday.The 30-year bond last rose 12/32 in price to yield 4.2526%, from 4.274% late on Tuesday.Oil prices rebounded amid supply tightness and ongoing output cuts among major producers.U.S. crude rose 2.15% to $79.83 per barrel and Brent was last at $83.24, up 1.46% on the day.Gold continued to drift higher after the safe-haven metal set a record high on Tuesday.Spot gold added 0.7% to $2,142.59 an ounce.'"
      ]
     },
     "execution_count": 130,
     "metadata": {},
     "output_type": "execute_result"
    }
   ],
   "source": [
    "text_news[499]"
   ]
  },
  {
   "cell_type": "code",
   "execution_count": null,
   "id": "5f818dcc",
   "metadata": {},
   "outputs": [],
   "source": [
    "import pandas as pd\n",
    "\n",
    "# Sample lists\n",
    "# df1 = pd.read_csv('output.csv')\n",
    "\n",
    "df2 = pd.read_csv('output_2.csv')\n",
    "\n",
    "df3 = pd.read_csv('output_4855.csv')\n",
    "\n",
    "df4 = pd.read_csv('output_6000.csv')\n",
    "\n",
    "df5 = pd.read_csv('output_7249.csv')\n",
    "\n",
    "df6 = pd.read_csv('output_7712.csv') \n",
    "\n",
    "df7 = pd.read_csv('output_10631.csv')\n",
    "\n",
    "df8 = pd.read_csv('output_10769.csv')\n",
    "\n",
    "df9 = pd.read_csv('output_10957.csv')"
   ]
  },
  {
   "cell_type": "code",
   "execution_count": null,
   "id": "08e8efc8-c33b-45f6-9ae1-2e98f5a7bc6d",
   "metadata": {},
   "outputs": [],
   "source": [
    "news_article_df = pd.concat([df2, df3, df4, df5, df6, df7, df8, df9], axis=0)"
   ]
  },
  {
   "cell_type": "code",
   "execution_count": null,
   "id": "d6089ef9",
   "metadata": {},
   "outputs": [],
   "source": [
    "news_article_df = news_article_df.reset_index(drop=True)\n"
   ]
  },
  {
   "cell_type": "code",
   "execution_count": null,
   "id": "a0efb5e3",
   "metadata": {},
   "outputs": [],
   "source": [
    "news_article_df.to_csv('news_article_final.csv')"
   ]
  }
 ],
 "metadata": {
  "kernelspec": {
   "display_name": "Python 3 (ipykernel)",
   "language": "python",
   "name": "python3"
  },
  "language_info": {
   "codemirror_mode": {
    "name": "ipython",
    "version": 3
   },
   "file_extension": ".py",
   "mimetype": "text/x-python",
   "name": "python",
   "nbconvert_exporter": "python",
   "pygments_lexer": "ipython3",
   "version": "3.10.9"
  }
 },
 "nbformat": 4,
 "nbformat_minor": 5
}
